{
 "cells": [
  {
   "cell_type": "code",
   "execution_count": 1,
   "metadata": {},
   "outputs": [],
   "source": [
    "import requests\n",
    "import pandas as pd"
   ]
  },
  {
   "cell_type": "code",
   "execution_count": 2,
   "metadata": {},
   "outputs": [],
   "source": [
    "SKETCHFAB_API_URL = 'https://api.sketchfab.com/v3/models?tags=rock&categories=nature-plants&archives_flavours=false'"
   ]
  },
  {
   "cell_type": "code",
   "execution_count": 3,
   "metadata": {},
   "outputs": [
    {
     "data": {
      "text/html": [
       "<div>\n",
       "<style scoped>\n",
       "    .dataframe tbody tr th:only-of-type {\n",
       "        vertical-align: middle;\n",
       "    }\n",
       "\n",
       "    .dataframe tbody tr th {\n",
       "        vertical-align: top;\n",
       "    }\n",
       "\n",
       "    .dataframe thead th {\n",
       "        text-align: right;\n",
       "    }\n",
       "</style>\n",
       "<table border=\"1\" class=\"dataframe\">\n",
       "  <thead>\n",
       "    <tr style=\"text-align: right;\">\n",
       "      <th></th>\n",
       "      <th>view_count</th>\n",
       "      <th>download_count</th>\n",
       "      <th>material_count</th>\n",
       "      <th>texture_count</th>\n",
       "      <th>vertex_count</th>\n",
       "      <th>face_count</th>\n",
       "    </tr>\n",
       "  </thead>\n",
       "  <tbody>\n",
       "  </tbody>\n",
       "</table>\n",
       "</div>"
      ],
      "text/plain": [
       "Empty DataFrame\n",
       "Columns: [view_count, download_count, material_count, texture_count, vertex_count, face_count]\n",
       "Index: []"
      ]
     },
     "execution_count": 3,
     "metadata": {},
     "output_type": "execute_result"
    }
   ],
   "source": [
    "#building the dataframe \n",
    "df = pd.DataFrame(columns=['view_count', 'download_count', 'material_count', 'texture_count', 'vertex_count', 'face_count'])\n",
    "\n",
    "df.head()"
   ]
  },
  {
   "cell_type": "code",
   "execution_count": 4,
   "metadata": {},
   "outputs": [],
   "source": [
    "def get_model_details(model_uid):\n",
    "    # function to retrieve the wanted data points\n",
    "\n",
    "    # new API call to collect details based on the uid of the model\n",
    "    url_model_details = \"https://api.sketchfab.com/v3/models/\"+model_uid\n",
    "    response_details = requests.get(url_model_details).json()\n",
    "\n",
    "    # collecting the data points\n",
    "    view_count = response_details[\"viewCount\"]\n",
    "    download_count = response_details[\"downloadCount\"]\n",
    "    material_count = response_details[\"materialCount\"]\n",
    "    texture_count = response_details[\"textureCount\"]\n",
    "    vertex_count = response_details[\"vertexCount\"]\n",
    "    face_count = response_details[\"faceCount\"]\n",
    "\n",
    "    return view_count, download_count, material_count, texture_count, vertex_count, face_count"
   ]
  },
  {
   "cell_type": "code",
   "execution_count": 5,
   "metadata": {},
   "outputs": [
    {
     "ename": "KeyError",
     "evalue": "'viewCount'",
     "output_type": "error",
     "traceback": [
      "\u001b[1;31m---------------------------------------------------------------------------\u001b[0m",
      "\u001b[1;31mKeyError\u001b[0m                                  Traceback (most recent call last)",
      "\u001b[1;32m<ipython-input-5-0f10f9e01b9d>\u001b[0m in \u001b[0;36m<module>\u001b[1;34m\u001b[0m\n\u001b[0;32m      7\u001b[0m \u001b[1;33m\u001b[0m\u001b[0m\n\u001b[0;32m      8\u001b[0m         \u001b[1;31m# using get_model_details() function to retrieve the data points\u001b[0m\u001b[1;33m\u001b[0m\u001b[1;33m\u001b[0m\u001b[1;33m\u001b[0m\u001b[0m\n\u001b[1;32m----> 9\u001b[1;33m         \u001b[0mview_count\u001b[0m\u001b[1;33m,\u001b[0m \u001b[0mdownload_count\u001b[0m\u001b[1;33m,\u001b[0m \u001b[0mmaterial_count\u001b[0m\u001b[1;33m,\u001b[0m \u001b[0mtexture_count\u001b[0m\u001b[1;33m,\u001b[0m \u001b[0mvertex_count\u001b[0m\u001b[1;33m,\u001b[0m \u001b[0mface_count\u001b[0m \u001b[1;33m=\u001b[0m \u001b[0mget_model_details\u001b[0m\u001b[1;33m(\u001b[0m\u001b[0mmodel_uid\u001b[0m\u001b[1;33m)\u001b[0m\u001b[1;33m\u001b[0m\u001b[1;33m\u001b[0m\u001b[0m\n\u001b[0m\u001b[0;32m     10\u001b[0m \u001b[1;33m\u001b[0m\u001b[0m\n\u001b[0;32m     11\u001b[0m         \u001b[1;31m# saving the data into the next row in the dataframe\u001b[0m\u001b[1;33m\u001b[0m\u001b[1;33m\u001b[0m\u001b[1;33m\u001b[0m\u001b[0m\n",
      "\u001b[1;32m<ipython-input-4-d37fabc3db66>\u001b[0m in \u001b[0;36mget_model_details\u001b[1;34m(model_uid)\u001b[0m\n\u001b[0;32m      7\u001b[0m \u001b[1;33m\u001b[0m\u001b[0m\n\u001b[0;32m      8\u001b[0m     \u001b[1;31m# collecting the data points\u001b[0m\u001b[1;33m\u001b[0m\u001b[1;33m\u001b[0m\u001b[1;33m\u001b[0m\u001b[0m\n\u001b[1;32m----> 9\u001b[1;33m     \u001b[0mview_count\u001b[0m \u001b[1;33m=\u001b[0m \u001b[0mresponse_details\u001b[0m\u001b[1;33m[\u001b[0m\u001b[1;34m\"viewCount\"\u001b[0m\u001b[1;33m]\u001b[0m\u001b[1;33m\u001b[0m\u001b[1;33m\u001b[0m\u001b[0m\n\u001b[0m\u001b[0;32m     10\u001b[0m     \u001b[0mdownload_count\u001b[0m \u001b[1;33m=\u001b[0m \u001b[0mresponse_details\u001b[0m\u001b[1;33m[\u001b[0m\u001b[1;34m\"downloadCount\"\u001b[0m\u001b[1;33m]\u001b[0m\u001b[1;33m\u001b[0m\u001b[1;33m\u001b[0m\u001b[0m\n\u001b[0;32m     11\u001b[0m     \u001b[0mmaterial_count\u001b[0m \u001b[1;33m=\u001b[0m \u001b[0mresponse_details\u001b[0m\u001b[1;33m[\u001b[0m\u001b[1;34m\"materialCount\"\u001b[0m\u001b[1;33m]\u001b[0m\u001b[1;33m\u001b[0m\u001b[1;33m\u001b[0m\u001b[0m\n",
      "\u001b[1;31mKeyError\u001b[0m: 'viewCount'"
     ]
    }
   ],
   "source": [
    "response = requests.get(SKETCHFAB_API_URL).json()\n",
    "\n",
    "#looping through the pagination\n",
    "while response[\"next\"]:\n",
    "    for model in response[\"results\"]:\n",
    "        model_uid = model[\"uid\"]\n",
    "\n",
    "        # using get_model_details() function to retrieve the data points\n",
    "        view_count, download_count, material_count, texture_count, vertex_count, face_count = get_model_details(model_uid)\n",
    "\n",
    "        # saving the data into the next row in the dataframe\n",
    "        df.loc[len(df.index)] = [view_count, download_count, material_count, texture_count, vertex_count, face_count]\n",
    "\n",
    "    # find the next page of results\n",
    "    response = requests.get(response[\"next\"]).json()"
   ]
  },
  {
   "cell_type": "code",
   "execution_count": 7,
   "metadata": {},
   "outputs": [
    {
     "name": "stdout",
     "output_type": "stream",
     "text": [
      "0       0\n",
      "1       0\n",
      "2       0\n",
      "3       0\n",
      "4       0\n",
      "       ..\n",
      "197     0\n",
      "198    29\n",
      "199     3\n",
      "200     1\n",
      "201    22\n",
      "Name: download_count, Length: 202, dtype: object\n"
     ]
    }
   ],
   "source": [
    "print(df['download_count'])\n",
    "\n"
   ]
  },
  {
   "cell_type": "code",
   "execution_count": null,
   "metadata": {},
   "outputs": [],
   "source": [
    "df.to_csv(\"new_rock_data.csv\")"
   ]
  }
 ],
 "metadata": {
  "kernelspec": {
   "display_name": "Python 3",
   "language": "python",
   "name": "python3"
  },
  "language_info": {
   "codemirror_mode": {
    "name": "ipython",
    "version": 3
   },
   "file_extension": ".py",
   "mimetype": "text/x-python",
   "name": "python",
   "nbconvert_exporter": "python",
   "pygments_lexer": "ipython3",
   "version": "3.7.6"
  }
 },
 "nbformat": 4,
 "nbformat_minor": 2
}
