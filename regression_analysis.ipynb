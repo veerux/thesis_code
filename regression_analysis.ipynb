{
 "cells": [
  {
   "cell_type": "code",
   "execution_count": 1,
   "metadata": {},
   "outputs": [],
   "source": [
    "import numpy as np\n",
    "import pandas as pd\n",
    "import matplotlib.pyplot as plt\n",
    "import math\n",
    "import seaborn as sns\n",
    "from sklearn.model_selection import train_test_split\n",
    "from sklearn.linear_model import LinearRegression\n",
    "from sklearn.metrics import mean_squared_error\n",
    "from sklearn.metrics import mean_absolute_error\n",
    "from sklearn.metrics import r2_score "
   ]
  },
  {
   "cell_type": "code",
   "execution_count": 2,
   "metadata": {},
   "outputs": [],
   "source": [
    "# data has been collected by using API for sketchfab.com \n",
    "dataset = pd.read_csv('model_data.csv')"
   ]
  },
  {
   "cell_type": "markdown",
   "metadata": {},
   "source": [
    "### CORRELATION / VIEW AND DOWNLOAD COUNTS"
   ]
  },
  {
   "cell_type": "code",
   "execution_count": 3,
   "metadata": {},
   "outputs": [
    {
     "data": {
      "text/html": [
       "<div>\n",
       "<style scoped>\n",
       "    .dataframe tbody tr th:only-of-type {\n",
       "        vertical-align: middle;\n",
       "    }\n",
       "\n",
       "    .dataframe tbody tr th {\n",
       "        vertical-align: top;\n",
       "    }\n",
       "\n",
       "    .dataframe thead th {\n",
       "        text-align: right;\n",
       "    }\n",
       "</style>\n",
       "<table border=\"1\" class=\"dataframe\">\n",
       "  <thead>\n",
       "    <tr style=\"text-align: right;\">\n",
       "      <th></th>\n",
       "      <th>view_count</th>\n",
       "      <th>download_count</th>\n",
       "      <th>material_count</th>\n",
       "      <th>texture_count</th>\n",
       "      <th>vertex_count</th>\n",
       "      <th>face_count</th>\n",
       "    </tr>\n",
       "  </thead>\n",
       "  <tbody>\n",
       "    <tr>\n",
       "      <th>0</th>\n",
       "      <td>73</td>\n",
       "      <td>13</td>\n",
       "      <td>1</td>\n",
       "      <td>0.0</td>\n",
       "      <td>410239</td>\n",
       "      <td>820436</td>\n",
       "    </tr>\n",
       "    <tr>\n",
       "      <th>1</th>\n",
       "      <td>66</td>\n",
       "      <td>9</td>\n",
       "      <td>1</td>\n",
       "      <td>1.0</td>\n",
       "      <td>90002</td>\n",
       "      <td>180000</td>\n",
       "    </tr>\n",
       "    <tr>\n",
       "      <th>2</th>\n",
       "      <td>127</td>\n",
       "      <td>21</td>\n",
       "      <td>6</td>\n",
       "      <td>6.0</td>\n",
       "      <td>764185</td>\n",
       "      <td>1500000</td>\n",
       "    </tr>\n",
       "    <tr>\n",
       "      <th>3</th>\n",
       "      <td>63</td>\n",
       "      <td>8</td>\n",
       "      <td>6</td>\n",
       "      <td>1.0</td>\n",
       "      <td>218625</td>\n",
       "      <td>435170</td>\n",
       "    </tr>\n",
       "    <tr>\n",
       "      <th>4</th>\n",
       "      <td>16</td>\n",
       "      <td>2</td>\n",
       "      <td>1</td>\n",
       "      <td>0.0</td>\n",
       "      <td>253125</td>\n",
       "      <td>501264</td>\n",
       "    </tr>\n",
       "    <tr>\n",
       "      <th>...</th>\n",
       "      <td>...</td>\n",
       "      <td>...</td>\n",
       "      <td>...</td>\n",
       "      <td>...</td>\n",
       "      <td>...</td>\n",
       "      <td>...</td>\n",
       "    </tr>\n",
       "    <tr>\n",
       "      <th>185</th>\n",
       "      <td>46</td>\n",
       "      <td>8</td>\n",
       "      <td>1</td>\n",
       "      <td>1.0</td>\n",
       "      <td>21427</td>\n",
       "      <td>41833</td>\n",
       "    </tr>\n",
       "    <tr>\n",
       "      <th>186</th>\n",
       "      <td>46</td>\n",
       "      <td>19</td>\n",
       "      <td>1</td>\n",
       "      <td>0.0</td>\n",
       "      <td>424</td>\n",
       "      <td>844</td>\n",
       "    </tr>\n",
       "    <tr>\n",
       "      <th>187</th>\n",
       "      <td>51</td>\n",
       "      <td>37</td>\n",
       "      <td>1</td>\n",
       "      <td>0.0</td>\n",
       "      <td>13</td>\n",
       "      <td>21</td>\n",
       "    </tr>\n",
       "    <tr>\n",
       "      <th>188</th>\n",
       "      <td>36</td>\n",
       "      <td>12</td>\n",
       "      <td>6</td>\n",
       "      <td>6.0</td>\n",
       "      <td>824595</td>\n",
       "      <td>1598364</td>\n",
       "    </tr>\n",
       "    <tr>\n",
       "      <th>189</th>\n",
       "      <td>10</td>\n",
       "      <td>4</td>\n",
       "      <td>1</td>\n",
       "      <td>1.0</td>\n",
       "      <td>30274</td>\n",
       "      <td>60544</td>\n",
       "    </tr>\n",
       "  </tbody>\n",
       "</table>\n",
       "<p>115 rows × 6 columns</p>\n",
       "</div>"
      ],
      "text/plain": [
       "     view_count  download_count  material_count  texture_count  vertex_count  \\\n",
       "0            73              13               1            0.0        410239   \n",
       "1            66               9               1            1.0         90002   \n",
       "2           127              21               6            6.0        764185   \n",
       "3            63               8               6            1.0        218625   \n",
       "4            16               2               1            0.0        253125   \n",
       "..          ...             ...             ...            ...           ...   \n",
       "185          46               8               1            1.0         21427   \n",
       "186          46              19               1            0.0           424   \n",
       "187          51              37               1            0.0            13   \n",
       "188          36              12               6            6.0        824595   \n",
       "189          10               4               1            1.0         30274   \n",
       "\n",
       "     face_count  \n",
       "0        820436  \n",
       "1        180000  \n",
       "2       1500000  \n",
       "3        435170  \n",
       "4        501264  \n",
       "..          ...  \n",
       "185       41833  \n",
       "186         844  \n",
       "187          21  \n",
       "188     1598364  \n",
       "189       60544  \n",
       "\n",
       "[115 rows x 6 columns]"
      ]
     },
     "execution_count": 3,
     "metadata": {},
     "output_type": "execute_result"
    }
   ],
   "source": [
    "# Including only the columns that are being used \n",
    "corr_data = dataset[['view_count','download_count', 'material_count', 'texture_count', 'vertex_count', 'face_count']]\n",
    "\n",
    "# Dropping duplicates and nulls\n",
    "corr_data = corr_data.drop_duplicates()\n",
    "corr_data = corr_data.dropna()\n",
    "\n",
    "#removing strange data where face_count = 0\n",
    "corr_data = corr_data.drop(corr_data[corr_data['face_count'] ==0].index)\n",
    "\n",
    "corr_data"
   ]
  },
  {
   "cell_type": "code",
   "execution_count": 4,
   "metadata": {},
   "outputs": [],
   "source": [
    "count_x = corr_data['view_count'].tolist()\n",
    "download_y = corr_data['download_count'].tolist()"
   ]
  },
  {
   "cell_type": "code",
   "execution_count": 5,
   "metadata": {},
   "outputs": [
    {
     "data": {
      "image/png": "[encoded data removed]",
      "text/plain": [
       "<Figure size 432x288 with 1 Axes>"
      ]
     },
     "metadata": {
      "needs_background": "light"
     },
     "output_type": "display_data"
    }
   ],
   "source": [
    "plt.scatter(count_x,download_y)\n",
    "plt.xlabel(\"View count\")\n",
    "plt.ylabel(\"Download count\")\n",
    "plt.show()"
   ]
  },
  {
   "cell_type": "code",
   "execution_count": 6,
   "metadata": {},
   "outputs": [
    {
     "name": "stdout",
     "output_type": "stream",
     "text": [
      "[[1.         0.58986405]\n",
      " [0.58986405 1.        ]]\n"
     ]
    }
   ],
   "source": [
    "# Pearson correlation coefficient\n",
    "print(np.corrcoef(download_y,count_x))"
   ]
  },
  {
   "cell_type": "markdown",
   "metadata": {},
   "source": [
    "### REGRESSION ANALYSIS"
   ]
  },
  {
   "cell_type": "code",
   "execution_count": 7,
   "metadata": {},
   "outputs": [],
   "source": [
    "reg_data = dataset[['view_count','download_count', 'material_count', 'texture_count', 'vertex_count', 'face_count']]\n",
    "\n",
    "# dropping any NaN values\n",
    "reg_data = reg_data.dropna()\n",
    "\n",
    "# dropping strange data where face count == 0 \n",
    "reg_data = reg_data.drop(reg_data[reg_data['face_count'] ==0].index)\n",
    "\n",
    "# dropping duplicates \n",
    "reg_data = reg_data.drop_duplicates()\n"
   ]
  },
  {
   "cell_type": "markdown",
   "metadata": {},
   "source": [
    "#### Regression model with view count with material not removed"
   ]
  },
  {
   "cell_type": "code",
   "execution_count": 8,
   "metadata": {},
   "outputs": [
    {
     "name": "stdout",
     "output_type": "stream",
     "text": [
      "Coefficient of Determination: 0.05795122973141087\n",
      "Coefficients: [ 1.50660507e+00  4.05791734e-01  1.04138386e-04 -4.60691752e-05]\n",
      "Intercept: 28.21261706871806\n"
     ]
    }
   ],
   "source": [
    "# Splitting the data into training and testing sets\n",
    "X_train, X_test, y_train, y_test = train_test_split(reg_data[['material_count', 'texture_count', 'vertex_count', 'face_count']], reg_data['view_count'], test_size=0.62, shuffle=False)\n",
    "model = LinearRegression()\n",
    "model.fit(X_train, y_train)\n",
    "y_pred = model.predict(X_train)\n",
    "R_square = r2_score(y_train, y_pred)\n",
    "\n",
    "print(f'Coefficient of Determination: {R_square}')\n",
    "print('Coefficients:', model.coef_)\n",
    "print('Intercept:', model.intercept_)"
   ]
  },
  {
   "cell_type": "code",
   "execution_count": 9,
   "metadata": {},
   "outputs": [
    {
     "name": "stdout",
     "output_type": "stream",
     "text": [
      "Coefficient of Determination: 0.057589260212881244\n",
      "Coefficients: [1.57121318e+00 6.82860388e-01 1.23517543e-05]\n",
      "Intercept: 27.807437226971423\n"
     ]
    }
   ],
   "source": [
    "X_train, X_test, y_train, y_test = train_test_split(reg_data[['material_count', 'texture_count', 'vertex_count']], reg_data['view_count'], test_size=0.62, shuffle=False)\n",
    "model = LinearRegression()\n",
    "model.fit(X_train, y_train)\n",
    "y_pred = model.predict(X_train)\n",
    "R_square = r2_score(y_train, y_pred)\n",
    "\n",
    "print(f'Coefficient of Determination: {R_square}')\n",
    "print('Coefficients:', model.coef_)\n",
    "print('Intercept:', model.intercept_)"
   ]
  },
  {
   "cell_type": "code",
   "execution_count": 10,
   "metadata": {},
   "outputs": [
    {
     "name": "stdout",
     "output_type": "stream",
     "text": [
      "Coefficient of Determination: 0.048134378312051807\n",
      "Coefficients: [1.39472304 0.99111998]\n",
      "Intercept: 29.96167454934244\n"
     ]
    }
   ],
   "source": [
    "X_train, X_test, y_train, y_test = train_test_split(reg_data[['material_count', 'texture_count']], reg_data['view_count'], test_size=0.62, shuffle=False)\n",
    "model = LinearRegression()\n",
    "model.fit(X_train, y_train)\n",
    "y_pred = model.predict(X_train)\n",
    "R_square = r2_score(y_train, y_pred)\n",
    "\n",
    "print(f'Coefficient of Determination: {R_square}')\n",
    "print('Coefficients:', model.coef_)\n",
    "print('Intercept:', model.intercept_)\n"
   ]
  },
  {
   "cell_type": "code",
   "execution_count": 11,
   "metadata": {},
   "outputs": [
    {
     "name": "stdout",
     "output_type": "stream",
     "text": [
      "Coefficient of Determination: 0.044506628517380076\n",
      "Coefficients: [2.08343847]\n",
      "Intercept: 29.608209269072255\n"
     ]
    }
   ],
   "source": [
    "X_train, X_test, y_train, y_test = train_test_split(reg_data[['material_count']], reg_data['view_count'], test_size=0.62, shuffle=False)\n",
    "model = LinearRegression()\n",
    "model.fit(X_train, y_train)\n",
    "y_pred = model.predict(X_train)\n",
    "R_square = r2_score(y_train, y_pred)\n",
    "\n",
    "print(f'Coefficient of Determination: {R_square}')\n",
    "print('Coefficients:', model.coef_)\n",
    "print('Intercept:', model.intercept_)"
   ]
  },
  {
   "cell_type": "markdown",
   "metadata": {},
   "source": [
    "#### Regression model with download count with material count not removed"
   ]
  },
  {
   "cell_type": "code",
   "execution_count": 12,
   "metadata": {},
   "outputs": [
    {
     "name": "stdout",
     "output_type": "stream",
     "text": [
      "Coefficient of Determination: 0.18271110532058465\n",
      "Coefficients: [ 5.09224766e-01 -4.35066422e-01  1.19210855e-04 -5.98198375e-05]\n",
      "Intercept: 6.76641301577157\n"
     ]
    }
   ],
   "source": [
    "# Splitting the data into training and testing sets\n",
    "X_train, X_test, y_train, y_test = train_test_split(reg_data[['material_count', 'texture_count', 'vertex_count', 'face_count']], reg_data['download_count'], test_size=0.62, shuffle=False)\n",
    "model = LinearRegression()\n",
    "model.fit(X_train, y_train)\n",
    "y_pred = model.predict(X_train)\n",
    "R_square = r2_score(y_train, y_pred)\n",
    "\n",
    "print(f'Coefficient of Determination: {R_square}')\n",
    "print('Coefficients:', model.coef_)\n",
    "print('Intercept:', model.intercept_)"
   ]
  },
  {
   "cell_type": "code",
   "execution_count": 13,
   "metadata": {},
   "outputs": [
    {
     "name": "stdout",
     "output_type": "stream",
     "text": [
      "Coefficient of Determination: 0.15199677156667568\n",
      "Coefficients: [ 5.93117015e-01 -7.52987074e-02  2.78792146e-08]\n",
      "Intercept: 6.240295667337049\n"
     ]
    }
   ],
   "source": [
    "# Splitting the data into training and testing sets\n",
    "X_train, X_test, y_train, y_test = train_test_split(reg_data[['material_count', 'texture_count', 'vertex_count']], reg_data['download_count'], test_size=0.62, shuffle=False)\n",
    "model = LinearRegression()\n",
    "model.fit(X_train, y_train)\n",
    "y_pred = model.predict(X_train)\n",
    "R_square = r2_score(y_train, y_pred)\n",
    "\n",
    "print(f'Coefficient of Determination: {R_square}')\n",
    "print('Coefficients:', model.coef_)\n",
    "print('Intercept:', model.intercept_)"
   ]
  },
  {
   "cell_type": "code",
   "execution_count": 14,
   "metadata": {},
   "outputs": [
    {
     "name": "stdout",
     "output_type": "stream",
     "text": [
      "Coefficient of Determination: 0.15199434741714524\n",
      "Coefficients: [ 0.59271866 -0.07460293]\n",
      "Intercept: 6.245158008603621\n"
     ]
    }
   ],
   "source": [
    "# Splitting the data into training and testing sets\n",
    "X_train, X_test, y_train, y_test = train_test_split(reg_data[['material_count', 'texture_count']], reg_data['download_count'], test_size=0.62, shuffle=False)\n",
    "model = LinearRegression()\n",
    "model.fit(X_train, y_train)\n",
    "y_pred = model.predict(X_train)\n",
    "R_square = r2_score(y_train, y_pred)\n",
    "\n",
    "print(f'Coefficient of Determination: {R_square}')\n",
    "print('Coefficients:', model.coef_)\n",
    "print('Intercept:', model.intercept_)"
   ]
  },
  {
   "cell_type": "code",
   "execution_count": 15,
   "metadata": {},
   "outputs": [
    {
     "name": "stdout",
     "output_type": "stream",
     "text": [
      "Coefficient of Determination: 0.15095992914931877\n",
      "Coefficients: [0.54087812]\n",
      "Intercept: 6.271763815291446\n"
     ]
    }
   ],
   "source": [
    "# Splitting the data into training and testing sets\n",
    "X_train, X_test, y_train, y_test = train_test_split(reg_data[['material_count']], reg_data['download_count'], test_size=0.62, shuffle=False)\n",
    "model = LinearRegression()\n",
    "model.fit(X_train, y_train)\n",
    "y_pred = model.predict(X_train)\n",
    "R_square = r2_score(y_train, y_pred)\n",
    "\n",
    "print(f'Coefficient of Determination: {R_square}')\n",
    "print('Coefficients:', model.coef_)\n",
    "print('Intercept:', model.intercept_)"
   ]
  },
  {
   "cell_type": "markdown",
   "metadata": {},
   "source": [
    "#### Regression analysis with download count and vertex not removed"
   ]
  },
  {
   "cell_type": "code",
   "execution_count": 16,
   "metadata": {},
   "outputs": [
    {
     "name": "stdout",
     "output_type": "stream",
     "text": [
      "Coefficient of Determination: 0.18271110532058477\n",
      "Coefficients: [ 1.19210855e-04 -4.35066422e-01  5.09224766e-01 -5.98198375e-05]\n",
      "Intercept: 6.7664130158214455\n"
     ]
    }
   ],
   "source": [
    "# Splitting the data into training and testing sets\n",
    "X_train, X_test, y_train, y_test = train_test_split(reg_data[['vertex_count', 'texture_count', 'material_count','face_count']], reg_data['download_count'], test_size=0.62, shuffle=False)\n",
    "model = LinearRegression()\n",
    "model.fit(X_train, y_train)\n",
    "y_pred = model.predict(X_train)\n",
    "R_square = r2_score(y_train, y_pred)\n",
    "\n",
    "print(f'Coefficient of Determination: {R_square}')\n",
    "print('Coefficients:', model.coef_)\n",
    "print('Intercept:', model.intercept_)"
   ]
  },
  {
   "cell_type": "code",
   "execution_count": 17,
   "metadata": {},
   "outputs": [
    {
     "name": "stdout",
     "output_type": "stream",
     "text": [
      "Coefficient of Determination: 0.12902987419252487\n",
      "Coefficients: [ 1.53044789e-04 -1.32470564e-01 -7.70440320e-05]\n",
      "Intercept: 7.760316704729821\n"
     ]
    }
   ],
   "source": [
    "# Splitting the data into training and testing sets\n",
    "X_train, X_test, y_train, y_test = train_test_split(reg_data[['vertex_count', 'texture_count', 'face_count']], reg_data['download_count'], test_size=0.62, shuffle=False)\n",
    "model = LinearRegression()\n",
    "model.fit(X_train, y_train)\n",
    "y_pred = model.predict(X_train)\n",
    "R_square = r2_score(y_train, y_pred)\n",
    "\n",
    "print(f'Coefficient of Determination: {R_square}')\n",
    "print('Coefficients:', model.coef_)\n",
    "print('Intercept:', model.intercept_)"
   ]
  },
  {
   "cell_type": "code",
   "execution_count": 18,
   "metadata": {},
   "outputs": [
    {
     "name": "stdout",
     "output_type": "stream",
     "text": [
      "Coefficient of Determination: 0.075544581102161\n",
      "Coefficients: [-5.62652203e-07  4.21363254e-01]\n",
      "Intercept: 7.270357727388551\n"
     ]
    }
   ],
   "source": [
    "# Splitting the data into training and testing sets\n",
    "X_train, X_test, y_train, y_test = train_test_split(reg_data[['vertex_count', 'texture_count']], reg_data['download_count'], test_size=0.62, shuffle=False)\n",
    "model = LinearRegression()\n",
    "model.fit(X_train, y_train)\n",
    "y_pred = model.predict(X_train)\n",
    "R_square = r2_score(y_train, y_pred)\n",
    "\n",
    "print(f'Coefficient of Determination: {R_square}')\n",
    "print('Coefficients:', model.coef_)\n",
    "print('Intercept:', model.intercept_)"
   ]
  },
  {
   "cell_type": "code",
   "execution_count": 19,
   "metadata": {},
   "outputs": [
    {
     "name": "stdout",
     "output_type": "stream",
     "text": [
      "Coefficient of Determination: 0.00010859817677366657\n",
      "Coefficients: [1.83094663e-07]\n",
      "Intercept: 7.874983093661917\n"
     ]
    }
   ],
   "source": [
    "# Splitting the data into training and testing sets\n",
    "X_train, X_test, y_train, y_test = train_test_split(reg_data[['vertex_count']], reg_data['download_count'], test_size=0.62, shuffle=False)\n",
    "model = LinearRegression()\n",
    "model.fit(X_train, y_train)\n",
    "y_pred = model.predict(X_train)\n",
    "R_square = r2_score(y_train, y_pred)\n",
    "\n",
    "print(f'Coefficient of Determination: {R_square}')\n",
    "print('Coefficients:', model.coef_)\n",
    "print('Intercept:', model.intercept_)"
   ]
  },
  {
   "cell_type": "markdown",
   "metadata": {},
   "source": [
    "#### Regression analysis with view count and vertex not removed"
   ]
  },
  {
   "cell_type": "code",
   "execution_count": 20,
   "metadata": {},
   "outputs": [
    {
     "name": "stdout",
     "output_type": "stream",
     "text": [
      "Coefficient of Determination: 0.05795122973141087\n",
      "Coefficients: [ 1.04138386e-04  4.05791734e-01  1.50660507e+00 -4.60691752e-05]\n",
      "Intercept: 28.212617068681674\n"
     ]
    }
   ],
   "source": [
    "# Splitting the data into training and testing sets\n",
    "X_train, X_test, y_train, y_test = train_test_split(reg_data[['vertex_count', 'texture_count', 'material_count', 'face_count']], reg_data['view_count'], test_size=0.62, shuffle=False)\n",
    "model = LinearRegression()\n",
    "model.fit(X_train, y_train)\n",
    "y_pred = model.predict(X_train)\n",
    "R_square = r2_score(y_train, y_pred)\n",
    "\n",
    "print(f'Coefficient of Determination: {R_square}')\n",
    "print('Coefficients:', model.coef_)\n",
    "print('Intercept:', model.intercept_)"
   ]
  },
  {
   "cell_type": "code",
   "execution_count": 21,
   "metadata": {},
   "outputs": [
    {
     "name": "stdout",
     "output_type": "stream",
     "text": [
      "Coefficient of Determination: 0.048614328448196686\n",
      "Coefficients: [ 2.04240307e-04  1.30105937e+00 -9.70291057e-05]\n",
      "Intercept: 31.15320526573226\n"
     ]
    }
   ],
   "source": [
    "# Splitting the data into training and testing sets\n",
    "X_train, X_test, y_train, y_test = train_test_split(reg_data[['vertex_count', 'texture_count', 'face_count']], reg_data['view_count'], test_size=0.62, shuffle=False)\n",
    "model = LinearRegression()\n",
    "model.fit(X_train, y_train)\n",
    "y_pred = model.predict(X_train)\n",
    "R_square = r2_score(y_train, y_pred)\n",
    "\n",
    "print(f'Coefficient of Determination: {R_square}')\n",
    "print('Coefficients:', model.coef_)\n",
    "print('Intercept:', model.intercept_)"
   ]
  },
  {
   "cell_type": "code",
   "execution_count": 22,
   "metadata": {},
   "outputs": [
    {
     "name": "stdout",
     "output_type": "stream",
     "text": [
      "Coefficient of Determination: 0.04692870363181412\n",
      "Coefficients: [1.07873905e-05 1.99855662e+00]\n",
      "Intercept: 30.536151872239806\n"
     ]
    }
   ],
   "source": [
    "# Splitting the data into training and testing sets\n",
    "X_train, X_test, y_train, y_test = train_test_split(reg_data[['vertex_count', 'texture_count']], reg_data['view_count'], test_size=0.62, shuffle=False)\n",
    "model = LinearRegression()\n",
    "model.fit(X_train, y_train)\n",
    "y_pred = model.predict(X_train)\n",
    "R_square = r2_score(y_train, y_pred)\n",
    "\n",
    "print(f'Coefficient of Determination: {R_square}')\n",
    "print('Coefficients:', model.coef_)\n",
    "print('Intercept:', model.intercept_)"
   ]
  },
  {
   "cell_type": "code",
   "execution_count": 23,
   "metadata": {},
   "outputs": [
    {
     "name": "stdout",
     "output_type": "stream",
     "text": [
      "Coefficient of Determination: 0.013207844400904167\n",
      "Coefficients: [1.43245223e-05]\n",
      "Intercept: 33.4039340416036\n"
     ]
    }
   ],
   "source": [
    "# Splitting the data into training and testing sets\n",
    "X_train, X_test, y_train, y_test = train_test_split(reg_data[['vertex_count']], reg_data['view_count'], test_size=0.62, shuffle=False)\n",
    "model = LinearRegression()\n",
    "model.fit(X_train, y_train)\n",
    "y_pred = model.predict(X_train)\n",
    "R_square = r2_score(y_train, y_pred)\n",
    "\n",
    "print(f'Coefficient of Determination: {R_square}')\n",
    "print('Coefficients:', model.coef_)\n",
    "print('Intercept:', model.intercept_)"
   ]
  },
  {
   "cell_type": "markdown",
   "metadata": {},
   "source": [
    "### ERROR ANALYSIS"
   ]
  },
  {
   "cell_type": "code",
   "execution_count": 24,
   "metadata": {},
   "outputs": [
    {
     "data": {
      "text/plain": [
       "LinearRegression(copy_X=True, fit_intercept=True, n_jobs=None, normalize=False)"
      ]
     },
     "execution_count": 24,
     "metadata": {},
     "output_type": "execute_result"
    }
   ],
   "source": [
    "# re-calculating the best model based on train sets' r2 scores\n",
    "X_train, X_test, y_train, y_test = train_test_split(reg_data[['vertex_count', 'texture_count', 'material_count','face_count']], reg_data['view_count'], test_size=0.62, shuffle=False)\n",
    "model = LinearRegression()\n",
    "model.fit(X_train, y_train)"
   ]
  },
  {
   "cell_type": "code",
   "execution_count": 25,
   "metadata": {},
   "outputs": [
    {
     "name": "stdout",
     "output_type": "stream",
     "text": [
      "MSE : 628.8992680810654\n",
      "RMSE : 25.077864105243602\n",
      "MAE : 20.41369530738039\n",
      "R2-score : 0.023527898394784308\n"
     ]
    }
   ],
   "source": [
    "# residuals on test data\n",
    "y_pred = model.predict(X_test)\n",
    "residuals = y_test - y_pred\n",
    "\n",
    "# mean squared error (MSE)\n",
    "mse = mean_squared_error(y_test, y_pred)\n",
    "\n",
    "# root mean square error RMSE\n",
    "rmse = math.sqrt(mse)\n",
    "\n",
    "# mean absolute error\n",
    "mae = mean_absolute_error(y_test,y_pred)\n",
    "\n",
    "# r2 for the test data\n",
    "R_squared = r2_score(y_test, y_pred)\n",
    "\n",
    "print(f'MSE : {mse}')\n",
    "print(f'RMSE : {rmse}')\n",
    "print(f'MAE : {mae}')\n",
    "print(f'R2-score : {R_squared}')\n"
   ]
  },
  {
   "cell_type": "code",
   "execution_count": 34,
   "metadata": {},
   "outputs": [
    {
     "data": {
      "text/plain": [
       "<matplotlib.axes._subplots.AxesSubplot at 0x1a4da4b2c88>"
      ]
     },
     "execution_count": 34,
     "metadata": {},
     "output_type": "execute_result"
    },
    {
     "data": {
      "image/png": "[encoded data removed]",
      "text/plain": [
       "<Figure size 432x288 with 1 Axes>"
      ]
     },
     "metadata": {
      "needs_background": "light"
     },
     "output_type": "display_data"
    }
   ],
   "source": [
    "sns.regplot(y_test, y_pred)"
   ]
  },
  {
   "cell_type": "code",
   "execution_count": null,
   "metadata": {},
   "outputs": [],
   "source": []
  }
 ],
 "metadata": {
  "kernelspec": {
   "display_name": "Python 3",
   "language": "python",
   "name": "python3"
  },
  "language_info": {
   "codemirror_mode": {
    "name": "ipython",
    "version": 3
   },
   "file_extension": ".py",
   "mimetype": "text/x-python",
   "name": "python",
   "nbconvert_exporter": "python",
   "pygments_lexer": "ipython3",
   "version": "2020.2.undefined"
  }
 },
 "nbformat": 4,
 "nbformat_minor": 2
}
